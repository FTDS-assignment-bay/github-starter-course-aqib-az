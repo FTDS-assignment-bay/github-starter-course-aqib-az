{
 "cells": [
  {
   "cell_type": "markdown",
   "id": "0930eeee",
   "metadata": {},
   "source": [
    "# Cara nge push assignment:"
   ]
  },
  {
   "cell_type": "markdown",
   "id": "15979b15",
   "metadata": {},
   "source": [
    "1. `git clone <link ssh key>` -> perintah untuk mengcloning/download repo assignment\n",
    "2. `cd <path repo lokal>` -> untuk mengubah directory ke repo lokal\n",
    "3. Pindahkan files apa saja yang akan di-push/upload atau buat file-nya langsung di dalam repo lokal\n",
    "~ jika sudah pernah push dan ada updates ulangi dari step no 4, jangan dari clone lagi (step1)~\n",
    "4. `git status` -> untuk cek file apa saja yang akan di-push (harusnya semua files berwarna merah)\n",
    "5. `git add .` -> untuk memasukkan files tersebut (no 4) ke stage mode, dan simbol (.) artinya semua file dimasukkan ke stage mode.\n",
    "~ jika hanya file tertentu, gunakan `git add <nama file>` contoh `git add skripsi_final.docx`\n",
    "6. `git status` -> untuk memastikan files tersebut sudah di stage mode dan siap di-push (harusnya berwarna hijau)\n",
    "7. `git commit -m \"message-nya apa"
   ]
  },
  {
   "cell_type": "markdown",
   "id": "83edd856",
   "metadata": {},
   "source": []
  }
 ],
 "metadata": {
  "language_info": {
   "name": "python"
  }
 },
 "nbformat": 4,
 "nbformat_minor": 5
}
